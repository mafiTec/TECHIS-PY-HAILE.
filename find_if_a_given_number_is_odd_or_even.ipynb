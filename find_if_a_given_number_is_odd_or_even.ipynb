{
  "nbformat": 4,
  "nbformat_minor": 0,
  "metadata": {
    "colab": {
      "name": "find if a given number is odd or even",
      "provenance": [],
      "authorship_tag": "ABX9TyMy4cnCwzHb0rlwJ+JaSMdl",
      "include_colab_link": true
    },
    "kernelspec": {
      "name": "python3",
      "display_name": "Python 3"
    },
    "language_info": {
      "name": "python"
    }
  },
  "cells": [
    {
      "cell_type": "markdown",
      "metadata": {
        "id": "view-in-github",
        "colab_type": "text"
      },
      "source": [
        "<a href=\"https://colab.research.google.com/github/mafiTec/TECHIS-PY-HAILE./blob/main/find_if_a_given_number_is_odd_or_even.ipynb\" target=\"_parent\"><img src=\"https://colab.research.google.com/assets/colab-badge.svg\" alt=\"Open In Colab\"/></a>"
      ]
    },
    {
      "cell_type": "markdown",
      "source": [
        "if number divided by gives 1 remainder then odd, if 0 remainder then even\n",
        "\n",
        "% gives us the remainder when 2 numbers are divided.\n",
        "\n",
        "if num%2 == 0, then it is even number\n",
        "\n",
        "else num %2!=0, then it is odd number"
      ],
      "metadata": {
        "id": "ypro0bTIRXhb"
      }
    },
    {
      "cell_type": "code",
      "execution_count": 2,
      "metadata": {
        "colab": {
          "base_uri": "https://localhost:8080/"
        },
        "id": "lTCq4YZNRSvU",
        "outputId": "2d6f86e2-22f9-4d46-9816-a960ee13573f"
      },
      "outputs": [
        {
          "output_type": "stream",
          "name": "stdout",
          "text": [
            "pleas, enter a number:10\n",
            "The number, 10 is Even number\n"
          ]
        }
      ],
      "source": [
        "num = int(input(\"pleas, enter a number:\"))\n",
        "if num%2==0:\n",
        "    print(\"The number,\",num,'is Even number')\n",
        "else:\n",
        "    print('The number,',num,'is Odd number')"
      ]
    },
    {
      "cell_type": "markdown",
      "source": [
        "Check if the given number is an Armstrong number.\n",
        "\n",
        "Example:153= 13 + 53 +3*3 += 1 + 27 +125= 153"
      ],
      "metadata": {
        "id": "ptcw2-n4SAT0"
      }
    },
    {
      "cell_type": "code",
      "source": [
        "n = int(input('enter the number:'))\n",
        "num = n\n",
        "sum = 0\n",
        "\n",
        "while n>0:\n",
        "    d=d%10\n",
        "    sum=sum+(d+d+d)\n",
        "    n=n/10\n",
        "    \n",
        "if sum == num:\n",
        "    print(num,'is an Armstrong number.')\n",
        "else:\n",
        "    print(num,'is not an Armstrong number.')\n",
        "    \n",
        "    \n",
        "    "
      ],
      "metadata": {
        "id": "NGkniZf8RjAD"
      },
      "execution_count": null,
      "outputs": []
    },
    {
      "cell_type": "code",
      "source": [
        "n = int(input('enter the number:'))\n",
        "num = n\n",
        "sum = 0\n",
        "\n",
        "while n>0:\n",
        "    d=d%10\n",
        "    sum=sum+(d+d+d)\n",
        "    n=n/10\n",
        "    \n",
        "if sum == num:\n",
        "    print(num,'is an Armstrong number.')\n",
        "else:\n",
        "    print(num,'is not an Armstrong number.')"
      ],
      "metadata": {
        "id": "g9Xo06WjTwir"
      },
      "execution_count": null,
      "outputs": []
    },
    {
      "cell_type": "markdown",
      "source": [
        ""
      ],
      "metadata": {
        "id": "oHVGOCx0TqNz"
      }
    },
    {
      "cell_type": "code",
      "source": [
        ""
      ],
      "metadata": {
        "id": "KxWyPaEXTvI0"
      },
      "execution_count": null,
      "outputs": []
    }
  ]
}