{
  "nbformat": 4,
  "nbformat_minor": 0,
  "metadata": {
    "colab": {
      "name": "Untitled9.ipynb",
      "provenance": [],
      "authorship_tag": "ABX9TyPTY7wlrpoFkT2D79BBGZoQ",
      "include_colab_link": true
    },
    "kernelspec": {
      "name": "python3",
      "display_name": "Python 3"
    },
    "language_info": {
      "name": "python"
    }
  },
  "cells": [
    {
      "cell_type": "markdown",
      "metadata": {
        "id": "view-in-github",
        "colab_type": "text"
      },
      "source": [
        "<a href=\"https://colab.research.google.com/github/mafiTec/TECHIS-PY-HAILE./blob/main/Untitled9.ipynb\" target=\"_parent\"><img src=\"https://colab.research.google.com/assets/colab-badge.svg\" alt=\"Open In Colab\"/></a>"
      ]
    },
    {
      "cell_type": "markdown",
      "source": [
        "Write a function that takes 2 arguments. The first one is the first node from a singly linked list, and the second one is any node on the list. The function should delete the second argument… your answer will be judged on both readability and its performance in world-case scenario in Big O time\n",
        "Write a function that m when provided the first node of aa singly linked list. Will sort the list by its value from small to large . Do not use built in sort method"
      ],
      "metadata": {
        "id": "yKKohckWRRkU"
      }
    },
    {
      "cell_type": "code",
      "execution_count": 7,
      "metadata": {
        "colab": {
          "base_uri": "https://localhost:8080/"
        },
        "id": "ghtj5OXW2krG",
        "outputId": "47645128-2cc7-4fd8-8dd5-a2b04967a2e8"
      },
      "outputs": [
        {
          "output_type": "stream",
          "name": "stdout",
          "text": [
            "89-->5-->79-->\n",
            "banana-->Mango-->graps-->orange-->\n",
            "length: 4\n"
          ]
        }
      ],
      "source": [
        "class Node:\n",
        "    def __init__(self, data=None, next=None):\n",
        "        self.data = data\n",
        "        self.next = next\n",
        "\n",
        "class LinkedList:\n",
        "    def __init__(self):\n",
        "        self.head = None\n",
        "\n",
        "    def insert_at_begining(self, data):\n",
        "        node = Node(data, self.head)\n",
        "        self.head = node\n",
        "\n",
        "    def print(self):\n",
        "        if self.head is None:\n",
        "            print(\"Linked list is emty\")\n",
        "            return\n",
        "\n",
        "        itr = self.head\n",
        "        llstr = ''\n",
        "      \n",
        "        while itr:\n",
        "            llstr += str(itr.data) + '-->'\n",
        "            itr = itr.next\n",
        "\n",
        "        print(llstr)\n",
        "        \n",
        "    def insert_at_end(self, data):\n",
        "        if self.head is None:\n",
        "            self.head = Node(data, None)\n",
        "            return\n",
        "        itr = self.head\n",
        "        while itr.next:\n",
        "            itr = itr.next\n",
        "            \n",
        "        itr.next = Node(data, None)\n",
        "        \n",
        "    def insert_values(self, data_list):\n",
        "        self.head = None\n",
        "        for data in data_list:\n",
        "            self.insert_at_end(data)\n",
        "    \n",
        "    def get_length(self):\n",
        "        count = 0\n",
        "        itr = self.head\n",
        "        while itr:\n",
        "            count +=1\n",
        "            itr = itr.next\n",
        "        \n",
        "        return count \n",
        "\n",
        "\n",
        "if __name__ == '__main__':\n",
        "    ll = LinkedList()\n",
        "    ll.insert_at_begining(5)\n",
        "    ll.insert_at_begining(89)\n",
        "    ll.insert_at_end(79)\n",
        "    ll.print()\n",
        "    ll.insert_values([\"banana\", \"Mango\", \"graps\", \"orange\"])\n",
        "    ll.print()\n",
        "    print(\"length:\",ll.get_length())"
      ]
    },
    {
      "cell_type": "code",
      "source": [
        "def get_length(self):\n",
        "        count = 0\n",
        "        itr = self.head\n",
        "        while itr:\n",
        "            count +=1\n",
        "            itr = itr.next\n",
        "        \n",
        "        return count \n",
        "\n",
        "\n",
        "if __name__ == '__main__':\n",
        "    ll = LinkedList()\n",
        "    ll.print()\n",
        "    ll.insert_values([\"banana\", \"Mango\", \"graps\", \"orange\"])\n",
        "    ll.print()\n",
        "   \n",
        "    print(\"length:\",ll.get_length())\n"
      ],
      "metadata": {
        "colab": {
          "base_uri": "https://localhost:8080/"
        },
        "id": "ksvvTcmxQoNL",
        "outputId": "a00d7204-8ce2-4cad-a1e7-2a698b1e1de5"
      },
      "execution_count": 8,
      "outputs": [
        {
          "output_type": "stream",
          "name": "stdout",
          "text": [
            "Linked list is emty\n",
            "banana-->Mango-->graps-->orange-->\n",
            "length: 4\n"
          ]
        }
      ]
    },
    {
      "cell_type": "code",
      "source": [
        "def get_length(self):\n",
        "        count = 0\n",
        "        itr = self.head\n",
        "        while itr:\n",
        "            count +=1\n",
        "            itr = itr.next\n",
        "        \n",
        "        return count \n",
        "    \n",
        "def remove_at(self, index):\n",
        "    \n",
        "        if index<0 or index>=self.get_length():\n",
        "            raise Exception(\"invalid index\")\n",
        "            \n",
        "        if index==0:\n",
        "            self.head = self.head.next\n",
        "            return\n",
        "        \n",
        "        count = 0\n",
        "        itr = self.head\n",
        "        \n",
        "        while itr:\n",
        "            if count == index - 1:\n",
        "              \n",
        "                itr.next = itr.next.next\n",
        "                break\n",
        "                \n",
        "            itr = itr.next\n",
        "            count += 1\n",
        "\n",
        "\n",
        "if __name__ == '__main__':\n",
        "    ll = LinkedList()\n",
        "    ll.insert_values([\"banana\", \"Mango\", \"graps\", \"orange\"])\n",
        "    ll.print()\n",
        "    \n",
        "    ll.print()\n",
        "   \n"
      ],
      "metadata": {
        "colab": {
          "base_uri": "https://localhost:8080/"
        },
        "id": "jv3FRK8UQqgU",
        "outputId": "e191ec0d-df04-4647-ed79-c505c329f843"
      },
      "execution_count": 11,
      "outputs": [
        {
          "output_type": "stream",
          "name": "stdout",
          "text": [
            "banana-->Mango-->graps-->orange-->\n",
            "banana-->Mango-->graps-->orange-->\n"
          ]
        }
      ]
    }
  ]
}