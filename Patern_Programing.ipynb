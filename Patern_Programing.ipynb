{
  "nbformat": 4,
  "nbformat_minor": 0,
  "metadata": {
    "colab": {
      "name": "Patern Programing",
      "provenance": [],
      "authorship_tag": "ABX9TyNDz9ID6nGgiikCNBKnhNw7",
      "include_colab_link": true
    },
    "kernelspec": {
      "name": "python3",
      "display_name": "Python 3"
    },
    "language_info": {
      "name": "python"
    }
  },
  "cells": [
    {
      "cell_type": "markdown",
      "metadata": {
        "id": "view-in-github",
        "colab_type": "text"
      },
      "source": [
        "<a href=\"https://colab.research.google.com/github/mafiTec/TECHIS-PY-HAILE./blob/main/Patern_Programing.ipynb\" target=\"_parent\"><img src=\"https://colab.research.google.com/assets/colab-badge.svg\" alt=\"Open In Colab\"/></a>"
      ]
    },
    {
      "cell_type": "markdown",
      "source": [
        "Patern Programing"
      ],
      "metadata": {
        "id": "VWkHZ0QcZRl0"
      }
    },
    {
      "cell_type": "code",
      "source": [
        "for i in range(1,6):\n",
        "    for j in range(i):\n",
        "        print('@',end='')\n",
        "    print()"
      ],
      "metadata": {
        "colab": {
          "base_uri": "https://localhost:8080/"
        },
        "id": "xxhQku-MZRv0",
        "outputId": "3ff7dcb2-e5bc-47ea-a5bf-7af561a9b5b1"
      },
      "execution_count": 9,
      "outputs": [
        {
          "output_type": "stream",
          "name": "stdout",
          "text": [
            "@\n",
            "@@\n",
            "@@@\n",
            "@@@@\n",
            "@@@@@\n"
          ]
        }
      ]
    },
    {
      "cell_type": "code",
      "source": [
        ""
      ],
      "metadata": {
        "id": "IBApWu1ZZsEr"
      },
      "execution_count": null,
      "outputs": []
    },
    {
      "cell_type": "code",
      "source": [
        "for i in range(1,6):\n",
        "    for j in range(5-i):\n",
        "        print(\" \",end='')\n",
        "    for j in range(i):\n",
        "        print(\"* \", end='')\n",
        "    print()"
      ],
      "metadata": {
        "colab": {
          "base_uri": "https://localhost:8080/"
        },
        "id": "A9tNvt-gZasD",
        "outputId": "17524e37-47b7-44f4-89b3-9e9da114541e"
      },
      "execution_count": 10,
      "outputs": [
        {
          "output_type": "stream",
          "name": "stdout",
          "text": [
            "    * \n",
            "   * * \n",
            "  * * * \n",
            " * * * * \n",
            "* * * * * \n"
          ]
        }
      ]
    },
    {
      "cell_type": "code",
      "source": [
        "#Top triangle\n",
        "\n",
        "for i in range(1,6):\n",
        "    for j in range(5-i):\n",
        "        print(' ',end='')\n",
        "        \n",
        "    for i in range(i):\n",
        "        if(j==i-1):\n",
        "            print(\"* \",end = '')\n",
        "        else:\n",
        "            print('*_',end= '')\n",
        "    print()\n",
        "        \n",
        "#bottom triangle\n",
        "\n",
        "for i in range(1,5):\n",
        "    for j in range(i):\n",
        "        print(\" \",end=\"\")\n",
        "    for j in range(5-i):\n",
        "        if(j==5-1-i):\n",
        "            print('*_', end='')\n",
        "        else:\n",
        "            print('*_',end='')\n",
        "    print()"
      ],
      "metadata": {
        "colab": {
          "base_uri": "https://localhost:8080/"
        },
        "id": "us8_purRZdCb",
        "outputId": "cdc04de0-307f-4b8a-9dfd-4a6433d45f4c"
      },
      "execution_count": 11,
      "outputs": [
        {
          "output_type": "stream",
          "name": "stdout",
          "text": [
            "    *_\n",
            "   *_*_\n",
            "  *_*_* \n",
            " *_* *_*_\n",
            "*_* *_*_*_\n",
            " *_*_*_*_\n",
            "  *_*_*_\n",
            "   *_*_\n",
            "    *_\n"
          ]
        }
      ]
    }
  ]
}