{
  "nbformat": 4,
  "nbformat_minor": 0,
  "metadata": {
    "colab": {
      "name": "code assessments JOB  SUPPORT",
      "provenance": [],
      "include_colab_link": true
    },
    "kernelspec": {
      "name": "python3",
      "display_name": "Python 3"
    },
    "language_info": {
      "name": "python"
    }
  },
  "cells": [
    {
      "cell_type": "markdown",
      "metadata": {
        "id": "view-in-github",
        "colab_type": "text"
      },
      "source": [
        "<a href=\"https://colab.research.google.com/github/mafiTec/TECHIS-PY-HAILE./blob/main/code_assessments_JOB_SUPPORT.ipynb\" target=\"_parent\"><img src=\"https://colab.research.google.com/assets/colab-badge.svg\" alt=\"Open In Colab\"/></a>"
      ]
    },
    {
      "cell_type": "markdown",
      "source": [
        "Question-1:Given an array of ints, return True if the array contains a 2 next to a 2 somewhere.\n",
        "has22([1, 2, 2]) → True has22([1, 2, 1, 2]) → False has22([2, 1, 2]) → False"
      ],
      "metadata": {
        "id": "b3u2iafaFpEz"
      }
    },
    {
      "cell_type": "code",
      "source": [
        "def has22(nums):\n",
        "    return (2, 2) in zip(nums, nums[1:])\n",
        "has22([1,2,1,2])"
      ],
      "metadata": {
        "colab": {
          "base_uri": "https://localhost:8080/"
        },
        "id": "vrxn_gKdHJM8",
        "outputId": "af9580a1-d8ad-458a-f85b-786519787e93"
      },
      "execution_count": 10,
      "outputs": [
        {
          "output_type": "execute_result",
          "data": {
            "text/plain": [
              "False"
            ]
          },
          "metadata": {},
          "execution_count": 10
        }
      ]
    },
    {
      "cell_type": "markdown",
      "source": [
        "Question-2:Return the sum of the numbers in the array, except ignore sections of numbers starting with a 6 and extending to the next 7 (every 6 will be followed by at least one 7). Return 0 for no numbers.\n",
        "sum67([1, 2, 2]) → 5 sum67([1, 2, 2, 6, 99, 99, 7]) → 5 sum67([1, 1, 6, 7, 2]) → 4"
      ],
      "metadata": {
        "id": "HU0uxNvGHVU6"
      }
    },
    {
      "cell_type": "code",
      "source": [
        "def sum67(nums):\n",
        "  total = 0\n",
        "  skip = False\n",
        "  for i in range(len(nums)):\n",
        "    if nums[i] == 6:\n",
        "      skip = True\n",
        "    elif nums[i] == 7 and skip:\n",
        "      skip = False\n",
        "    elif not skip:\n",
        "      total += nums[i]\n",
        "  return total\n",
        "\n",
        "sum67([1,2,2,6,99,99,7])"
      ],
      "metadata": {
        "colab": {
          "base_uri": "https://localhost:8080/"
        },
        "id": "-sFWzUxXHVsK",
        "outputId": "9b1f8b23-a1db-4a0c-fc86-ce77d1f2a838"
      },
      "execution_count": 12,
      "outputs": [
        {
          "output_type": "execute_result",
          "data": {
            "text/plain": [
              "5"
            ]
          },
          "metadata": {},
          "execution_count": 12
        }
      ]
    },
    {
      "cell_type": "markdown",
      "source": [
        "Question-3:Return the number of even ints in the given array. Note: the % “mod” operator computes the remainder, e.g. 5 % 2 is 1.\n",
        "count_evens([2, 1, 2, 3, 4]) → 3 count_evens([2, 2, 0]) → 3 count_evens([1, 3, 5]) → 0"
      ],
      "metadata": {
        "id": "PkTXmCdWH2kT"
      }
    },
    {
      "cell_type": "code",
      "source": [
        "def count_events(nums):\n",
        "  count = 0\n",
        "  for n in nums:\n",
        "    if n % 2 == 0:\n",
        "      count += 1\n",
        "  return count\n",
        "\n",
        "count_events([2,1,2,3,4])\n"
      ],
      "metadata": {
        "colab": {
          "base_uri": "https://localhost:8080/"
        },
        "id": "mam7rXjiH21j",
        "outputId": "e66b9093-1cda-4275-b8b2-e264e6fee59b"
      },
      "execution_count": 14,
      "outputs": [
        {
          "output_type": "execute_result",
          "data": {
            "text/plain": [
              "3"
            ]
          },
          "metadata": {},
          "execution_count": 14
        }
      ]
    },
    {
      "cell_type": "markdown",
      "source": [
        "Given a string, return a string where for every char in the original, there are two chars.\n",
        "\n",
        "double_char('The') → 'TThhee' double_char('AAbb') → 'AAAAbbbb' double_char('Hi-There') → 'HHii--TThheerree'"
      ],
      "metadata": {
        "id": "uU3e_mNMSgvM"
      }
    },
    {
      "cell_type": "code",
      "source": [
        "def double_char(str):\n",
        "  new_str = \"\"\n",
        "  for char in str:\n",
        "      new_str += char*2\n",
        "  return new_str\n",
        "\n",
        "double_char('Hi-There')"
      ],
      "metadata": {
        "id": "c7BjlRSxSuZ7",
        "outputId": "398df94b-c507-4ed8-fba7-82ee3d56dcc4",
        "colab": {
          "base_uri": "https://localhost:8080/",
          "height": 35
        }
      },
      "execution_count": null,
      "outputs": [
        {
          "output_type": "execute_result",
          "data": {
            "application/vnd.google.colaboratory.intrinsic+json": {
              "type": "string"
            },
            "text/plain": [
              "'HHii--TThheerree'"
            ]
          },
          "metadata": {},
          "execution_count": 14
        }
      ]
    },
    {
      "cell_type": "markdown",
      "source": [
        "Question-5: Given an array of ints, return True if the sequence of numbers 1, 2, 3 appears in the array somewhere.\n",
        "array123([1, 1, 2, 3, 1]) → True array123([1, 1, 2, 4, 1]) → False array123([1, 1, 2, 1, 2, 3]) → True"
      ],
      "metadata": {
        "id": "QkQXNMBRIpv8"
      }
    },
    {
      "cell_type": "code",
      "source": [
        "def array123(nums):\n",
        "    for i in range(len(nums)-2):\n",
        "        if nums[i] == 1 and nums[i+1] == 2 and nums[i+2] == 3:\n",
        "            return True\n",
        "    return False\n",
        "\n",
        "array123([1, 1, 2, 1, 2, 3])"
      ],
      "metadata": {
        "id": "Pr-vJS2AzMPe",
        "colab": {
          "base_uri": "https://localhost:8080/"
        },
        "outputId": "5379117e-0710-4dbe-e4fb-657d50b4bdf0"
      },
      "execution_count": 16,
      "outputs": [
        {
          "output_type": "execute_result",
          "data": {
            "text/plain": [
              "True"
            ]
          },
          "metadata": {},
          "execution_count": 16
        }
      ]
    }
  ]
}