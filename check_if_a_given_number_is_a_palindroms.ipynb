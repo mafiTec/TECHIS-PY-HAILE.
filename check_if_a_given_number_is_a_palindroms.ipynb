{
  "nbformat": 4,
  "nbformat_minor": 0,
  "metadata": {
    "colab": {
      "name": "check if a given number is a palindroms",
      "provenance": [],
      "authorship_tag": "ABX9TyNHCNccr5NNjD9yo7HXDUti",
      "include_colab_link": true
    },
    "kernelspec": {
      "name": "python3",
      "display_name": "Python 3"
    },
    "language_info": {
      "name": "python"
    }
  },
  "cells": [
    {
      "cell_type": "markdown",
      "metadata": {
        "id": "view-in-github",
        "colab_type": "text"
      },
      "source": [
        "<a href=\"https://colab.research.google.com/github/mafiTec/TECHIS-PY-HAILE./blob/main/check_if_a_given_number_is_a_palindroms.ipynb\" target=\"_parent\"><img src=\"https://colab.research.google.com/assets/colab-badge.svg\" alt=\"Open In Colab\"/></a>"
      ]
    },
    {
      "cell_type": "markdown",
      "source": [
        "Palindroms\n",
        "\n",
        "Q: check if a given number is a palindroms\n",
        "\n",
        "Example: 12321\n",
        "\n",
        "read from forward = 12321\n",
        "\n",
        "read from backward = 12321"
      ],
      "metadata": {
        "id": "oHVGOCx0TqNz"
      }
    },
    {
      "cell_type": "code",
      "source": [
        "n = int (input('Please Enter a number:'))\n",
        "num = n\n",
        "rev = 0\n",
        "while n>0:\n",
        "    d=n%10\n",
        "    n=int(n/10)\n",
        "    rev = rev*10+d\n",
        "if rev==num:\n",
        "    print(num, 'is a palindroms Number.')\n",
        "else:\n",
        "    print(num, 'is not a palindroms Number.')"
      ],
      "metadata": {
        "colab": {
          "base_uri": "https://localhost:8080/"
        },
        "id": "KxWyPaEXTvI0",
        "outputId": "6fd67385-4eaa-4d05-885a-b957f8adc794"
      },
      "execution_count": 6,
      "outputs": [
        {
          "output_type": "stream",
          "name": "stdout",
          "text": [
            "Please Enter a number:456\n",
            "456 is not a palindroms Number.\n"
          ]
        }
      ]
    },
    {
      "cell_type": "code",
      "source": [
        "n = int (input('Please Enter a number:'))\n",
        "num = n\n",
        "rev = 0\n",
        "while n>0:\n",
        "    d=n%10\n",
        "    n=int(n/10)\n",
        "    rev = rev*10+d\n",
        "if rev==num:\n",
        "    print(num, 'is a palindroms Number.')\n",
        "else:\n",
        "    print(num, 'is not a palindroms Number.')"
      ],
      "metadata": {
        "colab": {
          "base_uri": "https://localhost:8080/"
        },
        "id": "Ny9V7qorYqPn",
        "outputId": "f56c2f67-26b5-4558-ef10-95f91a896ed3"
      },
      "execution_count": 8,
      "outputs": [
        {
          "output_type": "stream",
          "name": "stdout",
          "text": [
            "Please Enter a number:12321\n",
            "12321 is a palindroms Number.\n"
          ]
        }
      ]
    }
  ]
}