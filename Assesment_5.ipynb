{
  "nbformat": 4,
  "nbformat_minor": 0,
  "metadata": {
    "colab": {
      "name": "Assesment_5.ipynb",
      "provenance": [],
      "authorship_tag": "ABX9TyPZZz6NicazaGvlNxwthhyx",
      "include_colab_link": true
    },
    "kernelspec": {
      "name": "python3",
      "display_name": "Python 3"
    },
    "language_info": {
      "name": "python"
    }
  },
  "cells": [
    {
      "cell_type": "markdown",
      "metadata": {
        "id": "view-in-github",
        "colab_type": "text"
      },
      "source": [
        "<a href=\"https://colab.research.google.com/github/mafiTec/TECHIS-PY-HAILE./blob/main/Assesment_5.ipynb\" target=\"_parent\"><img src=\"https://colab.research.google.com/assets/colab-badge.svg\" alt=\"Open In Colab\"/></a>"
      ]
    },
    {
      "cell_type": "markdown",
      "source": [
        "capitalize"
      ],
      "metadata": {
        "id": "4c9jlqoxCiuF"
      }
    },
    {
      "cell_type": "code",
      "execution_count": 29,
      "metadata": {
        "colab": {
          "base_uri": "https://localhost:8080/"
        },
        "id": "_0ETflLbo6oy",
        "outputId": "d2a45c02-9ec3-4926-f76f-42e852e3c441"
      },
      "outputs": [
        {
          "output_type": "stream",
          "name": "stdout",
          "text": [
            "['Haile', 'Tech is', 'Job suport']\n",
            "-----------------------------\n",
            "Hello, my name is haile.\n",
            "-----------------------------\n",
            "Job suport\n",
            "-----------------------------\n",
            "Haile\n"
          ]
        }
      ],
      "source": [
        "person1 = \"haile\"\n",
        "list_names = [\"haile\",\"tech is\", \"job suport\"]\n",
        "sentence = \"hello, my name is haile.\"\n",
        "new_string = person1.capitalize()\n",
        "new_list = []\n",
        "for name in list_names:\n",
        "      new_name = name.capitalize()\n",
        "      new_list.append(new_name)\n",
        "new_sentence = sentence.capitalize()\n",
        "\n",
        "print(new_list)\n",
        "print(\"-----------------------------\")\n",
        "print(new_sentence)\n",
        "print(\"-----------------------------\")\n",
        "print(new_name)\n",
        "print(\"-----------------------------\")\n",
        "print(new_string)\n"
      ]
    },
    {
      "cell_type": "markdown",
      "source": [
        "Score runnup constraint "
      ],
      "metadata": {
        "id": "15dvbkkJCyBE"
      }
    },
    {
      "cell_type": "code",
      "source": [
        "print(\"#### JB Tech Is ###\")\n",
        "print(\"-----------------------\")\n",
        "A=[]\n",
        "n=int(input(\"How many numbers:\"))\n",
        "\n",
        "for i in range(0,n):\n",
        "  number=int(input(\"Enter Number:\"))\n",
        "  A.append(number)\n",
        "A.sort()\n",
        "A = list(dict.fromkeys(A))\n",
        "print(\"New List\", A)\n",
        "print(\"Runner up score:\", A[-2])"
      ],
      "metadata": {
        "colab": {
          "base_uri": "https://localhost:8080/"
        },
        "id": "WL26_fOK4xzZ",
        "outputId": "249cba39-1e05-4d2f-8f39-226af5597699"
      },
      "execution_count": 49,
      "outputs": [
        {
          "output_type": "stream",
          "name": "stdout",
          "text": [
            "#### JB Tech Is ###\n",
            "-----------------------\n",
            "How many numbers:5\n",
            "Enter Number:2\n",
            "Enter Number:3\n",
            "Enter Number:6\n",
            "Enter Number:6\n",
            "Enter Number:5\n",
            "New List [2, 3, 5, 6]\n",
            "Runner up score: 5\n"
          ]
        }
      ]
    },
    {
      "cell_type": "markdown",
      "source": [
        "Symmetric Differnce"
      ],
      "metadata": {
        "id": "di-pC4-eC3b0"
      }
    },
    {
      "cell_type": "code",
      "source": [
        "n = int(input())\n",
        "s1 = set(map(int, input().split()))\n",
        "m = int(input())\n",
        "s2 = set(map(int, input().split()))\n",
        "\n",
        "s3 = s1.union(s2)\n",
        "print(s3)\n",
        "\n",
        "l = []\n",
        "for i in s3:\n",
        "  if i in s1 and i in s2:\n",
        "     pass \n",
        "  else:\n",
        "      l.append(i)\n",
        "\n",
        "print(i)\n",
        "l.sort()\n",
        "for i in l:\n",
        "  print(i)"
      ],
      "metadata": {
        "colab": {
          "base_uri": "https://localhost:8080/"
        },
        "id": "lAapxPMV8EMA",
        "outputId": "3b722cf1-7238-49d4-a805-d3283aeb7582"
      },
      "execution_count": 60,
      "outputs": [
        {
          "output_type": "stream",
          "name": "stdout",
          "text": [
            "4\n",
            "2459\n",
            "4\n",
            "241112\n",
            "{241112, 2459}\n",
            "2459\n",
            "2459\n",
            "241112\n"
          ]
        }
      ]
    }
  ]
}